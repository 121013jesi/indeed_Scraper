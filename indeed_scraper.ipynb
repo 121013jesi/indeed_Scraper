{
 "cells": [
  {
   "cell_type": "code",
   "execution_count": null,
   "id": "5db24d68-679e-4435-98a6-39398addc790",
   "metadata": {},
   "outputs": [
    {
     "ename": "ImportError",
     "evalue": "cannot import name 'BeautifulSoup' from partially initialized module 'bs4' (most likely due to a circular import) (c:\\Users\\JESIKA\\AppData\\Local\\Programs\\Python\\Python312\\Lib\\site-packages\\bs4\\__init__.py)",
     "output_type": "error",
     "traceback": [
      "\u001b[1;31m---------------------------------------------------------------------------\u001b[0m",
      "\u001b[1;31mImportError\u001b[0m                               Traceback (most recent call last)",
      "Cell \u001b[1;32mIn[7], line 3\u001b[0m\n\u001b[0;32m      1\u001b[0m \u001b[38;5;66;03m# Import necessary libraries\u001b[39;00m\n\u001b[0;32m      2\u001b[0m \u001b[38;5;28;01mimport\u001b[39;00m \u001b[38;5;21;01mrequests\u001b[39;00m\n\u001b[1;32m----> 3\u001b[0m \u001b[38;5;28;01mfrom\u001b[39;00m \u001b[38;5;21;01mbs4\u001b[39;00m \u001b[38;5;28;01mimport\u001b[39;00m BeautifulSoup\n\u001b[0;32m      4\u001b[0m \u001b[38;5;28;01mimport\u001b[39;00m \u001b[38;5;21;01mlxml\u001b[39;00m\n\u001b[0;32m      5\u001b[0m \u001b[38;5;28;01mimport\u001b[39;00m \u001b[38;5;21;01msmtplib\u001b[39;00m\n",
      "File \u001b[1;32mc:\\Users\\JESIKA\\AppData\\Local\\Programs\\Python\\Python312\\Lib\\site-packages\\bs4\\__init__.py:3\u001b[0m\n\u001b[0;32m      1\u001b[0m \u001b[38;5;66;03m# Import necessary libraries\u001b[39;00m\n\u001b[0;32m      2\u001b[0m \u001b[38;5;28;01mimport\u001b[39;00m \u001b[38;5;21;01mrequests\u001b[39;00m\n\u001b[1;32m----> 3\u001b[0m \u001b[38;5;28;01mfrom\u001b[39;00m \u001b[38;5;21;01mbs4\u001b[39;00m \u001b[38;5;28;01mimport\u001b[39;00m BeautifulSoup\n\u001b[0;32m      4\u001b[0m \u001b[38;5;28;01mimport\u001b[39;00m \u001b[38;5;21;01mlxml\u001b[39;00m\n\u001b[0;32m      5\u001b[0m \u001b[38;5;28;01mimport\u001b[39;00m \u001b[38;5;21;01msmtplib\u001b[39;00m\n",
      "\u001b[1;31mImportError\u001b[0m: cannot import name 'BeautifulSoup' from partially initialized module 'bs4' (most likely due to a circular import) (c:\\Users\\JESIKA\\AppData\\Local\\Programs\\Python\\Python312\\Lib\\site-packages\\bs4\\__init__.py)"
     ]
    }
   ],
   "source": [
    "using HtmlAgilityPack;\n",
    "using System;\n",
    "using System.Net.Http;\n",
    "using System.Threading.Tasks;\n",
    "\n",
    "public class AmazonScraper\n",
    "{\n",
    "    private readonly HttpClient _httpClient;\n",
    "\n",
    "    public AmazonScraper()\n",
    "    {\n",
    "        _httpClient = new HttpClient();\n",
    "    }\n",
    "\n",
    "    public async Task<decimal> GetProductPriceAsync(string productUrl)\n",
    "    {\n",
    "        var html = await _httpClient.GetStringAsync(productUrl);\n",
    "        var document = new HtmlDocument();\n",
    "        document.LoadHtml(html);\n",
    "\n",
    "        var priceElement = document.DocumentNode.SelectSingleNode(\"//span[@class='a-offscreen']\");\n",
    "        if (priceElement != null)\n",
    "        {\n",
    "            var priceText = priceElement.InnerText.Trim('$');\n",
    "            return decimal.Parse(priceText);\n",
    "        }\n",
    "\n",
    "        return 0m;\n",
    "    }\n",
    "}"
   ]
  }
 ],
 "metadata": {
  "kernelspec": {
   "display_name": "Python 3",
   "language": "python",
   "name": "python3"
  },
  "language_info": {
   "codemirror_mode": {
    "name": "ipython",
    "version": 3
   },
   "file_extension": ".py",
   "mimetype": "text/x-python",
   "name": "python",
   "nbconvert_exporter": "python",
   "pygments_lexer": "ipython3",
   "version": "3.12.2"
  }
 },
 "nbformat": 4,
 "nbformat_minor": 5
}
